{
 "cells": [
  {
   "cell_type": "code",
   "execution_count": 21,
   "metadata": {
    "collapsed": true
   },
   "outputs": [],
   "source": [
    "cap = [{\"2\": \"man wearing a black suit\"}, {\"4\": \"man wearing a suit and tie\"}, {\"5\": \"black hat on mans head\"}, {\"6\": \"man wearing a black suit\"}, {\"8\": \"man wearing a white shirt\"}, {\"14\": \"a glass of wine\"}, {\"19\": \"a picture of a woman\"}, {\"21\": \"a pair of blue jeans\"}, {\"22\": \"a chair with a white seat\"}, {\"25\": \"a white shirt on a man\"}, {\"30\": \"man has white shirt\"}, {\"35\": \"a wooden table\"}, {\"36\": \"a pair of brown pants\"}, {\"40\": \"a man wearing a white shirt\"}, {\"43\": \"the man has glasses\"}, {\"46\": \"a white napkin in the background\"}, {\"47\": \"a man wearing a tie\"}, {\"49\": \"a man in a white shirt\"}, {\"50\": \"a wooden door\"}, {\"56\": \"a white box\"}, {\"62\": \"the mans hair is black\"}, {\"64\": \"a white door\"}, {\"66\": \"a person standing in the background\"}, {\"67\": \"a white box on the table\"}, {\"68\": \"a man in a black shirt\"}, {\"69\": \"the man is wearing a tie\"}, {\"70\": \"the shirt is black\"}, {\"71\": \"a white shirt on a man\"}, {\"72\": \"a man wearing a white shirt\"}]"
   ]
  },
  {
   "cell_type": "code",
   "execution_count": 22,
   "metadata": {
    "collapsed": false
   },
   "outputs": [],
   "source": [
    "captions, capdict = list(), dict()"
   ]
  },
  {
   "cell_type": "code",
   "execution_count": 23,
   "metadata": {
    "collapsed": true
   },
   "outputs": [],
   "source": [
    "for num, item in enumerate(cap):\n",
    "    for key in item.keys():\n",
    "        capdict[num] = item[key]"
   ]
  },
  {
   "cell_type": "code",
   "execution_count": 28,
   "metadata": {
    "collapsed": false,
    "scrolled": true
   },
   "outputs": [
    {
     "name": "stdout",
     "output_type": "stream",
     "text": [
      "['0 : man wearing a black suit', '1 : man wearing a suit and tie', '2 : black hat on mans head', '3 : man wearing a black suit', '4 : man wearing a white shirt', '5 : a glass of wine', '6 : a picture of a woman', '7 : a pair of blue jeans', '8 : a chair with a white seat', '9 : a white shirt on a man', '10 : man has white shirt', '11 : a wooden table', '12 : a pair of brown pants', '13 : a man wearing a white shirt', '14 : the man has glasses', '15 : a white napkin in the background', '16 : a man wearing a tie', '17 : a man in a white shirt', '18 : a wooden door', '19 : a white box', '20 : the mans hair is black', '21 : a white door', '22 : a person standing in the background', '23 : a white box on the table', '24 : a man in a black shirt', '25 : the man is wearing a tie', '26 : the shirt is black', '27 : a white shirt on a man', '28 : a man wearing a white shirt']\n"
     ]
    }
   ],
   "source": [
    "print([str(str(key) + \" : \" + capdict[key]) for key in capdict.keys()])"
   ]
  },
  {
   "cell_type": "code",
   "execution_count": 20,
   "metadata": {
    "collapsed": false
   },
   "outputs": [
    {
     "ename": "ModuleNotFoundError",
     "evalue": "No module named 'gensim'",
     "output_type": "error",
     "traceback": [
      "\u001b[0;31m---------------------------------------------------------------------------\u001b[0m",
      "\u001b[0;31mModuleNotFoundError\u001b[0m                       Traceback (most recent call last)",
      "\u001b[0;32m<ipython-input-20-ec15f3ffe0f1>\u001b[0m in \u001b[0;36m<module>\u001b[0;34m()\u001b[0m\n\u001b[0;32m----> 1\u001b[0;31m \u001b[0;32mimport\u001b[0m \u001b[0mgensim\u001b[0m\u001b[0;34m\u001b[0m\u001b[0m\n\u001b[0m",
      "\u001b[0;31mModuleNotFoundError\u001b[0m: No module named 'gensim'"
     ]
    }
   ],
   "source": [
    "import gensim"
   ]
  },
  {
   "cell_type": "code",
   "execution_count": 37,
   "metadata": {
    "collapsed": false
   },
   "outputs": [],
   "source": [
    "text = set([capdict[key] for key in capdict.keys()])"
   ]
  },
  {
   "cell_type": "code",
   "execution_count": 39,
   "metadata": {
    "collapsed": false
   },
   "outputs": [
    {
     "name": "stdout",
     "output_type": "stream",
     "text": [
      "{'man has white shirt', 'a pair of blue jeans', 'a glass of wine', 'a white door', 'a white box', 'man wearing a black suit', 'a man wearing a tie', 'a chair with a white seat', 'a white napkin in the background', 'a pair of brown pants', 'the man is wearing a tie', 'a white shirt on a man', 'man wearing a suit and tie', 'a man in a black shirt', 'the shirt is black', 'a wooden table', 'a man in a white shirt', 'a wooden door', 'a white box on the table', 'man wearing a white shirt', 'a picture of a woman', 'a man wearing a white shirt', 'a person standing in the background', 'the man has glasses', 'the mans hair is black', 'black hat on mans head'}\n"
     ]
    }
   ],
   "source": [
    "print(text)"
   ]
  },
  {
   "cell_type": "code",
   "execution_count": 40,
   "metadata": {
    "collapsed": false,
    "scrolled": true
   },
   "outputs": [
    {
     "name": "stdout",
     "output_type": "stream",
     "text": [
      "['man has white shirt', 'pair of blue jeans', 'glass of wine', 'white door', 'white box', 'man wearing a black suit', 'man wearing a tie', 'chair with a white seat', 'white napkin in the background', 'pair of brown pants', 'the man is wearing a tie', 'white shirt on a man', 'man wearing a suit and tie', 'man in a black shirt', 'the shirt is black', 'wooden table', 'man in a white shirt', 'wooden door', 'white box on the table', 'man wearing a white shirt', 'picture of a woman', 'man wearing a white shirt', 'person standing in the background', 'the man has glasses', 'the mans hair is black', 'black hat on mans head']\n"
     ]
    }
   ],
   "source": [
    "print([item.lstrip('a ') for item in text])"
   ]
  },
  {
   "cell_type": "code",
   "execution_count": 54,
   "metadata": {
    "collapsed": true
   },
   "outputs": [],
   "source": [
    "stop = ['a', 'the', 'in', 'of', 'on', 'has', 'is']"
   ]
  },
  {
   "cell_type": "code",
   "execution_count": 55,
   "metadata": {
    "collapsed": false
   },
   "outputs": [],
   "source": [
    "def filtertext(text):\n",
    "    for item in text:\n",
    "        word = item.split()\n",
    "        for w in word:\n",
    "            if w in stop: return ' '\n",
    "            else: return w"
   ]
  },
  {
   "cell_type": "code",
   "execution_count": 59,
   "metadata": {
    "collapsed": false
   },
   "outputs": [],
   "source": [
    "fil = list(map(filtertext, [item for item in text]))"
   ]
  },
  {
   "cell_type": "code",
   "execution_count": 60,
   "metadata": {
    "collapsed": false
   },
   "outputs": [
    {
     "name": "stdout",
     "output_type": "stream",
     "text": [
      "['m', ' ', ' ', ' ', ' ', 'm', ' ', ' ', ' ', ' ', 't', ' ', 'm', ' ', 't', ' ', ' ', ' ', ' ', 'm', ' ', ' ', ' ', 't', 't', 'b']\n"
     ]
    }
   ],
   "source": [
    "print(fil)"
   ]
  },
  {
   "cell_type": "code",
   "execution_count": 1,
   "metadata": {
    "collapsed": false
   },
   "outputs": [
    {
     "name": "stdout",
     "output_type": "stream",
     "text": [
      "showing info https://raw.githubusercontent.com/nltk/nltk_data/gh-pages/index.xml\n"
     ]
    },
    {
     "data": {
      "text/plain": [
       "True"
      ]
     },
     "execution_count": 1,
     "metadata": {},
     "output_type": "execute_result"
    }
   ],
   "source": [
    "import nltk\n",
    "nltk.download()"
   ]
  },
  {
   "cell_type": "code",
   "execution_count": 1,
   "metadata": {
    "collapsed": false
   },
   "outputs": [
    {
     "name": "stdout",
     "output_type": "stream",
     "text": [
      "[('We', 'PRP'), ('are', 'VBP'), ('going', 'VBG'), ('out', 'RP'), ('.', '.'), ('Just', 'NNP'), ('you', 'PRP'), ('and', 'CC'), ('me', 'PRP'), ('.', '.')]\n"
     ]
    }
   ],
   "source": [
    "import nltk\n",
    "text=nltk.word_tokenize(\"We are going out. Just you and me.\")\n",
    "print(nltk.pos_tag(text))"
   ]
  },
  {
   "cell_type": "code",
   "execution_count": null,
   "metadata": {
    "collapsed": true
   },
   "outputs": [],
   "source": []
  }
 ],
 "metadata": {
  "kernelspec": {
   "display_name": "Python 3",
   "language": "python",
   "name": "python3"
  },
  "language_info": {
   "codemirror_mode": {
    "name": "ipython",
    "version": 3
   },
   "file_extension": ".py",
   "mimetype": "text/x-python",
   "name": "python",
   "nbconvert_exporter": "python",
   "pygments_lexer": "ipython3",
   "version": "3.6.0"
  }
 },
 "nbformat": 4,
 "nbformat_minor": 2
}
