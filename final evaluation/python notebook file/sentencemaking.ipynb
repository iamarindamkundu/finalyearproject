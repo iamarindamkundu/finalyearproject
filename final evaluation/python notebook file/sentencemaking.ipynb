{
 "cells": [
  {
   "cell_type": "markdown",
   "metadata": {},
   "source": [
    "creating keylist from cpt0.json"
   ]
  },
  {
   "cell_type": "code",
   "execution_count": 2,
   "metadata": {
    "collapsed": false,
    "scrolled": true
   },
   "outputs": [
    {
     "name": "stdout",
     "output_type": "stream",
     "text": [
      "a white plate on a table. a silver sink. a black and silver pot. \n",
      "----------\n",
      "a black and white laptop. a white shirt on a man. a silver spoon on a plate. a flower in a vase. a brown leather bag. a brown bag. man wearing a white shirt. a black and silver knife. the jacket is brown. the suit is black. the man is wearing a white shirt. a man wearing a blue shirt. a small black and white plate. a white plate. white refrigerator door. the man is wearing a tie. a silver counter top. a silver fork on a plate. a man wearing a tie. man has brown hair. a silver faucet. a glass of wine. \n",
      "----------\n",
      "a man wearing a black shirt. man wearing a black tie. a white plastic bag. a black dress shirt. \n",
      "----------\n",
      "the man has short hair. a plant in a pot. a plant in the background. a brown wooden door. the hair is black. a dark brown hair. \n",
      "----------\n",
      "a window on the wall. a poster of a man. \n",
      "----------\n",
      "a green plant in the background. a small white table. a wooden shelf. television on the wall. a black hair on a head. a black lamp. \n",
      "----------\n",
      "a light on the wall. a plant in a pot. a black hair on a head. a plant in the background. \n",
      "----------\n",
      "a light on the wall. a plant in a pot. a black hat on the head. a plant in the background. \n",
      "----------\n",
      "a small book on the wall. a person sitting in the chair. a white shirt on a man. a piece of flowers. a plant in a pot. a man in a black shirt. the man is wearing a white shirt. a man with dark hair. a light in the background. a man with a hat on. a person wearing a shirt. a door in the background. man has brown hair. the man has black hair. a person wearing a hat. a small white tv. a black hair on a mans head. \n",
      "----------\n",
      "black hat on mans head. black jacket on man. man wearing a white shirt. \n",
      "----------\n",
      "the man is wearing a white shirt. man wearing a white shirt. \n",
      "----------\n",
      "man wearing a black suit. a black jacket on a man. a man wearing a black shirt. \n",
      "----------\n",
      "the man is wearing a black hat. the man is wearing glasses. \n",
      "----------\n",
      "a man wearing a tie. the man is smiling. \n",
      "----------\n",
      "a tv on the stand. a piece of flowers. a plant in a pot. a small lamp on the wall. a small white tv. \n",
      "----------\n",
      "a black shirt on a man. man wearing a suit. a light brown wooden frame. a man wearing a black shirt. a white chair. man wearing a black shirt. a black piece of a person. a man wearing glasses. man wearing a black suit. a lamp on the table. a pair of blue jeans. a large black and white chair. a man with a beard. a white box. the man is wearing a black jacket. a tv on the stand. a wooden shelf. the man is wearing a black suit. man wearing glasses. the man has glasses. a poster of a store. \n",
      "----------\n",
      "a small white plate. a white plate on a bus. \n",
      "----------\n",
      "a white pillow. a white plastic bag. a white chair. \n",
      "----------\n",
      "a man wearing a hat. a man wearing a white shirt. \n",
      "----------\n",
      "a wooden table. a wooden door. a man wearing a hat. a black hat on the head. \n",
      "----------\n",
      "man has a beard. man with short hair. the shirt is black. the man is wearing a white shirt. \n",
      "----------\n",
      "the man has short hair. a white shirt with a collar. \n",
      "----------\n",
      "a black chair. a brown table cloth. a white plastic bag. a white trash can. \n",
      "----------\n",
      "a white laptop. the man has a black hair. man wearing a white shirt. black hat on mans head. the hair of a man. a man wearing a hat. a white box on the table. man wearing glasses. a person wearing a black shirt. a brown wooden frame. a window on the wall. a window with a white frame. television on the wall. a lamp on the wall. \n",
      "----------\n",
      "a white plastic bag. a white chair. a black jacket. \n",
      "----------\n",
      "a flower vase on the table. a black suit jacket. a small table. a white box on the wall. a light on the wall. the man is wearing glasses. the man is wearing a black hat. the box is white. a white plate on a table. the head of a man. a tv on the wall. white shirt on man. a white door. a man with a beard. a plant in the background. a black shirt. a green and white vase. a brown leather chair. a plant in a pot. a black hat on the head. a black and white lamp. a plant in a window. a glass of wine. man and woman standing in front of a computer. a shelf with a book. \n",
      "----------\n",
      "a small table. a black hat on the head. a tv on the wall. a black and white lamp. \n",
      "----------\n",
      "a brown chair. a small white chair. a white microwave. a small wooden table. a white chair. a white wall. \n",
      "----------\n",
      "white refrigerator door. a small glass of wine. a silver and black door. a black and white door. a white and black car. \n",
      "----------\n",
      "a white plate on a bus. a silver sink. a silver metal faucet. \n",
      "----------\n",
      "a silver metal plate. a person holding a fork. a silver spoon on a plate. a flower in a vase. \n",
      "----------\n",
      "the man has short hair. a window in a store. man wearing a black suit. the man has dark hair. man with glasses on face. man wearing a black tie. the hair is black. a white door. \n",
      "----------\n",
      "a white door on the side of the bus. a small black glass. \n",
      "----------\n",
      "a man wearing glasses. man wearing a black suit. man wearing glasses. a man wearing a black shirt. the man has glasses. \n",
      "----------\n",
      "a flower vase on the table. a black chair. a brown leather chair. a black jacket. a white plate on the table. a brown table cloth. a white plastic bag. a silver bowl on a table. a white chair. a white plate on a table. a green and white vase. a silver knife. \n",
      "----------\n",
      "a brown chair. a small book on the wall. man wearing black suit. the man is wearing a tie. a chair in the room. man wearing a black suit. a person wearing a white shirt. a white plastic bag. a white box on the wall. the jacket is brown. a white door. man with glasses on face. a white box. a black jacket on a man. a man wearing a blue shirt. a shelf of books. a man wearing a black shirt. a white chair. the man has black hair. a white window on the wall. \n",
      "----------\n",
      "a fork on a plate. a black and white plate. a plate of food. a plate on a table. a white plate. \n",
      "----------\n",
      "a silver sink. a silver and black door. \n",
      "----------\n",
      "the handle of the suitcase. a brown chair. a chair in the background. \n",
      "----------\n",
      "a white plastic bag. a white handle on a chair. \n",
      "----------\n",
      "a brown chair. man wearing a suit. a white shirt on a man. a white handle on a chair. a white box on the wall. a man wearing a black jacket. a brown wooden door. man has a beard. a white chair. man wearing a white shirt. a white plastic bag. the man is wearing a white shirt. a man wearing a watch. black jacket on man. a white door. the man has a black hair. a poster of a man. the shirt is black. the jacket is black. man wearing black shirt. a man wearing a tie. the man is wearing a black jacket. wine glass with wine. a man in a blue shirt. a white napkin on the table. a glass of wine. a chair in the background. \n",
      "----------\n",
      "a black and white umbrella. a flat screen tv. a green and white tv. man wearing glasses. the hair is black. \n",
      "----------\n",
      "man wearing a black suit. a white plastic bag. a white box on the wall. man wearing glasses. a man wearing a tie. a shelf with a book. a man wearing a black shirt. a white door. the man has glasses. \n",
      "----------\n",
      "the man is wearing a black jacket. a man wearing a watch. the jacket is black. a poster of a man. \n",
      "----------\n",
      "a person wearing a white shirt. a wooden table. a black and white umbrella. \n",
      "----------\n",
      "a silver faucet. a black and silver knife. a silver counter top. a silver spoon on a plate. a silver fork on a plate. a white plate on a table. a white plate. a small black and white plate. \n",
      "----------\n",
      "the man is wearing a black jacket. a pair of blue jeans. \n",
      "----------\n",
      "a tv on the stand. a black piece of a person. a green plant in the background. a lamp on the table. a large black and white chair. a plant in a pot. \n",
      "----------\n",
      "white and black glass. a brown chair. a small glass of wine. a light on the wall. a silver and black door. a white and black car. a white chair. a wooden table. a window in the room. a white plastic bag. the chair is brown. white refrigerator door. a plant in the background. a white box. a brown wooden chair. a white pillow on the couch. a white wall. a white metal chair. a silver faucet. a silver sink. a glass of water. the handle of the car is black. a plant in a window. a black and white door. a wooden headboard. \n",
      "----------\n",
      "a glass of wine. a white plastic bag. the box is white. \n",
      "----------\n",
      "a table cloth. a white plate. \n",
      "----------\n",
      "a glass of wine. a silver sink. a silver faucet. \n",
      "----------\n",
      "a tv on the stand. a white window on the wall. a small lamp on the wall. a black lamp. \n",
      "----------\n",
      "a white shirt on a man. a flower in a vase. a silver metal tray. a man wearing a black shirt. a small white glass. a pair of blue jeans. a plate on a table. a white plate. a man with a beard. the man is smiling. a cake on a plate. the man is wearing a brown shirt. a black suitcase. a black and white plate. the man is wearing a black jacket. a fork on a plate. a silver sink. a glass of wine. the man is wearing a black suit. a person holding a glass. a poster of a store. a silver metal faucet. \n",
      "----------\n",
      "wine glass with wine. a glass of wine. \n",
      "----------\n",
      "a white and black car. a glass of wine. \n",
      "----------\n",
      "a brown table cloth. a white plate on the table. \n",
      "----------\n",
      "a white door on the side of the bus. white refrigerator door. a small glass of wine. a silver sink. a white and black bottle. a silver metal bar. a large glass of wine. a white box on the counter. a silver metal faucet. \n",
      "----------\n",
      "a silver metal plate. a silver sink. a silver spoon on a plate. a silver metal sink. a plate of food. a silver metal bar. a table cloth. a white plate. a silver metal faucet. \n",
      "----------\n",
      "a tv on the stand. a brown chair. a brown wooden wall. a white and black umbrella. a black piece of a person. a green plant in the background. a window in the room. a large black and white chair. a plant in a pot. a small wooden table. a man with short hair. a wooden shelf. a wooden door. a white wooden chair. a man with a beard. a white chair. a poster of a store. the man is smiling. \n",
      "----------\n",
      "a brown chair. a white door on the side of the bus. a white shirt with a collar. a small glass of wine. a flower in a vase. a brown leather bag. a white chair. a silver metal sink. a large glass of wine. a small black and white plate. a white door. a silver metal plate. white refrigerator door. a black metal chair. a small white table. a white and black bottle. a man wearing a suit. a man wearing a tie. a silver sink. a glass of water. a silver metal bar. a white and black glass. a white box on the counter. a silver metal faucet. \n",
      "----------\n",
      "a black chair. a man wearing a black shirt. a chair in the room. man wearing a suit. man wearing a black suit. a man wearing glasses. a white plastic bag. a small white table. a white pillow. a brown table cloth. a white sign on the wall. man with glasses on face. a wooden shelf. a black suit. a white napkin. a white plate on a table. a white chair. a shelf of a book. a white plate. \n",
      "----------\n",
      "a man wearing glasses. man wearing a black suit. a white pillow. man with glasses on face. a man wearing a black shirt. \n",
      "----------\n",
      "a silver faucet. a flower pot on the table. man wearing a white shirt. a white plastic bag. a silver sink. the man is wearing a black jacket. a small bowl on the table. a glass of wine. a silver spoon. the man is wearing a white shirt. a man wearing a white shirt. a silver metal tray. a clear glass of water. a man wearing a black shirt. a white plate on a table. a small glass table. a white plate. \n",
      "----------\n",
      "the handle of the suitcase. wine glass with wine. a brown chair. a white plate on a bus. a chair with a pillow. a white shirt on a man. a small white plate. a white plastic bag. a glass of wine. a white chair. a chair in the background. \n",
      "----------\n",
      "a silver counter top. a black and silver knife. \n",
      "----------\n",
      "a brown chair. a white and black umbrella. a white plate on a bus. a window in the room. a small glass of wine. a white table cloth. a white wooden chair. a white chair. a black and white chair. \n",
      "----------\n",
      "the hair is black. the man has short hair. \n",
      "----------\n",
      "a plate of food. a fork on a plate. a pair of blue jeans. \n",
      "----------\n",
      "a white plastic bag. \n",
      "----------\n",
      "a small bowl on the table. a silver spoon. a silver metal tray. a white plate on a table. a white plate. \n",
      "----------\n",
      "a wooden table. a white pillow on the couch. a white metal chair. \n",
      "----------\n",
      "the man has short hair. a flat screen tv. a white shirt with a collar. a man in a suit. a white box on the wall. a flower in a vase. a tree in a room. a brown leather bag. a brown wooden door. a window in a store. a man wearing a shirt. a man wearing a blue shirt. the hair is black. a white door. the man is smiling. a black and white umbrella. a small white table. a person holding a fork. a man wearing a suit. a plant in the background. a plate of food. a man wearing a tie. the man is wearing a black jacket. the man has dark hair. a plant in a pot. a green and white tv. a dark brown hair. \n",
      "----------\n",
      "a white door on the side of the bus. a silver sink. a silver metal tray. \n",
      "----------\n",
      "a white refrigerator. a small white glass. a white plate on a bus. a small glass of wine. a silver sink. a black and white plate. a white table cloth. a person holding a glass. a silver metal faucet. \n",
      "----------\n",
      "a person wearing a white shirt. a light on the wall. a brown wooden table. a wall behind the cat. a wooden table. man wearing a white shirt. a white plastic bag. a man wearing a hat. the man is wearing a white shirt. a man with short hair. the hair is black. a woman wearing a white shirt. a shelf of a book. television on the wall. a green plant in the background. a black and white umbrella. a small white table. a plant in the background. a brown wooden chair. the man is wearing a black jacket. a black hair on a head. a white wooden door. a black handle on the side of the car. black hair on the head. a man holding a cup. a plant in a pot. a plant in a window. a wooden shelf. a man wearing a white shirt. a light brown wall. a black lamp. \n",
      "----------\n",
      "a silver faucet. a white plate on the table. a silver bowl on a table. a white plate on a table. a silver knife. \n",
      "----------\n",
      "a small book on the wall. the man has black hair. a black hair on a mans head. \n",
      "----------\n",
      "a white wall behind the cat. a glass of wine. the handle of the bus. \n",
      "----------\n",
      "a silver counter top. a white plate. a black and silver knife. \n",
      "----------\n",
      "a silver spoon on a plate. a glass of wine. a black and silver pot. a white plate on a table. a small black and white plate. \n",
      "----------\n"
     ]
    }
   ],
   "source": [
    "import os\n",
    "import json\n",
    "textsent = []\n",
    "j = 0\n",
    "x = 0\n",
    "i = 0\n",
    "while x <= 5:\n",
    "    data = json.load(open('/Users/arin/Desktop/final_yr_project/notebook/grptocpt/cpt{}.json'.format(x)))\n",
    "    keylist = list(data.keys())\n",
    "    i = 0\n",
    "    while i < len(keylist):\n",
    "        cap = list(data[keylist[i]])\n",
    "#         print('###############cpt{}.json'.format(x))\n",
    "#         print(cap, len(cap))\n",
    "\n",
    "        if len(cap) > 1:\n",
    "            capdict = dict()\n",
    "            for num, items in enumerate(cap):\n",
    "                for key in items.keys():\n",
    "                    capdict[num] = items[key]\n",
    "            text = set([capdict[key] for key in capdict.keys()])\n",
    "#             print(text)\n",
    "#             print('--------------')\n",
    "            mystring = \"\"\n",
    "            for sen in list(text):\n",
    "                mystring = mystring + sen + \". \"\n",
    "            textsent.insert(j, str(mystring))\n",
    "            j = j + 1\n",
    "#         else:\n",
    "#             print(\"not added\")\n",
    "\n",
    "        i = i + 1\n",
    "    x = x + 1\n",
    "# print (textsent)\n",
    "for item in list(set(textsent)) :\n",
    "    print(item)\n",
    "    print('----------')\n",
    "json.dump(textsent,open('/Users/arin/Desktop/final_yr_project/frame_extract/results/mrbeantrimresults/textsent.json','w'))"
   ]
  },
  {
   "cell_type": "code",
   "execution_count": 14,
   "metadata": {
    "collapsed": false
   },
   "outputs": [
    {
     "name": "stdout",
     "output_type": "stream",
     "text": [
      "[{'4': 'a man wearing a black jacket'}, {'7': 'man wearing a suit'}, {'16': 'man wearing a white shirt'}, {'17': 'the man is wearing a white shirt'}, {'20': 'a poster of a man'}, {'23': 'wine glass with wine'}, {'25': 'a white plastic bag'}, {'27': 'a brown wooden door'}, {'29': 'man has a beard'}, {'30': 'black jacket on man'}, {'34': 'a white shirt on a man'}, {'43': 'a glass of wine'}, {'44': 'a white handle on a chair'}, {'52': 'a white chair'}, {'54': 'man wearing black shirt'}, {'55': 'a white chair'}, {'56': 'the man is wearing a black jacket'}, {'58': 'a white box on the wall'}, {'59': 'a man wearing a watch'}, {'62': 'a brown chair'}, {'63': 'the man has a black hair'}, {'64': 'the jacket is black'}, {'65': 'a white door'}, {'66': 'a man in a blue shirt'}, {'70': 'a man wearing a tie'}, {'71': 'the shirt is black'}, {'75': 'a white napkin on the table'}, {'76': 'a chair in the background'}, {'78': 'the man is wearing a white shirt'}] 29\n"
     ]
    }
   ],
   "source": [
    "import json\n",
    "data = json.load(open('/Users/arin/Desktop/final_yr_project/notebook/grptocpt/cpt1.json'))\n",
    "keylist = list(data.keys())\n",
    "# print(len(keylist))\n",
    "cap = list(data[keylist[0]])\n",
    "print(cap, len(cap))"
   ]
  },
  {
   "cell_type": "code",
   "execution_count": 15,
   "metadata": {
    "collapsed": false
   },
   "outputs": [],
   "source": [
    "capdict = dict()"
   ]
  },
  {
   "cell_type": "code",
   "execution_count": 16,
   "metadata": {
    "collapsed": false
   },
   "outputs": [],
   "source": [
    "for num, items in enumerate(cap) :\n",
    "    for key in items.keys() : \n",
    "        capdict[num] = items[key]"
   ]
  },
  {
   "cell_type": "code",
   "execution_count": 17,
   "metadata": {
    "collapsed": false
   },
   "outputs": [
    {
     "name": "stdout",
     "output_type": "stream",
     "text": [
      "['a white box on the wall', 'a chair in the background', 'man wearing black shirt', 'a white handle on a chair', 'the jacket is black', 'a man wearing a black jacket', 'wine glass with wine', 'black jacket on man', 'a white plastic bag', 'a white napkin on the table', 'a poster of a man', 'the man has a black hair', 'a man in a blue shirt', 'man wearing a white shirt', 'a glass of wine', 'the man is wearing a black jacket', 'the shirt is black', 'a white chair', 'man wearing a suit', 'a man wearing a watch', 'a brown chair', 'the man is wearing a white shirt', 'a white shirt on a man', 'a man wearing a tie', 'a brown wooden door', 'a white door', 'man has a beard'] 27\n"
     ]
    }
   ],
   "source": [
    "text = set([capdict[key] for key in capdict.keys()])\n",
    "print(list(text), len(list(text)))"
   ]
  },
  {
   "cell_type": "code",
   "execution_count": 18,
   "metadata": {
    "collapsed": false
   },
   "outputs": [
    {
     "name": "stdout",
     "output_type": "stream",
     "text": [
      "a white box on the wall. a chair in the background. man wearing black shirt. a white handle on a chair. the jacket is black. a man wearing a black jacket. wine glass with wine. black jacket on man. a white plastic bag. a white napkin on the table. a poster of a man. the man has a black hair. a man in a blue shirt. man wearing a white shirt. a glass of wine. the man is wearing a black jacket. the shirt is black. a white chair. man wearing a suit. a man wearing a watch. a brown chair. the man is wearing a white shirt. a white shirt on a man. a man wearing a tie. a brown wooden door. a white door. man has a beard.  <class 'str'>\n"
     ]
    }
   ],
   "source": [
    "mystring = \"\"\n",
    "for sen in list(text) :\n",
    "    mystring = mystring + sen + \". \"\n",
    "print(mystring, type(mystring))"
   ]
  },
  {
   "cell_type": "code",
   "execution_count": 49,
   "metadata": {
    "collapsed": false
   },
   "outputs": [
    {
     "name": "stdout",
     "output_type": "stream",
     "text": [
      "[('a', 'DT'), ('silver', 'JJ'), ('spoon', 'NN'), ('on', 'IN'), ('a', 'DT'), ('plate', 'NN'), ('.', '.'), ('a', 'DT'), ('white', 'JJ'), ('and', 'CC'), ('black', 'JJ'), ('vase', 'NN'), ('.', '.'), ('flowers', 'NNS'), ('in', 'IN'), ('a', 'DT'), ('vase', 'NN'), ('.', '.'), ('a', 'DT'), ('small', 'JJ'), ('table', 'NN'), ('.', '.'), ('a', 'DT'), ('white', 'JJ'), ('plastic', 'NN'), ('cup', 'NN'), ('.', '.'), ('a', 'DT'), ('box', 'NN'), ('of', 'IN'), ('tissues', 'NNS'), ('.', '.'), ('a', 'DT'), ('glass', 'NN'), ('of', 'IN'), ('wine', 'NN'), ('.', '.'), ('a', 'DT'), ('silver', 'JJ'), ('faucet', 'NN'), ('.', '.'), ('a', 'DT'), ('black', 'JJ'), ('and', 'CC'), ('silver', 'JJ'), ('pot', 'NN'), ('.', '.'), ('a', 'DT'), ('silver', 'JJ'), ('metal', 'NN'), ('faucet', 'NN'), ('.', '.')]\n"
     ]
    }
   ],
   "source": [
    "import nltk\n",
    "tags = list()\n",
    "parsing = nltk.word_tokenize(mystring)\n",
    "print(nltk.pos_tag(parsing))\n",
    "# tags.append(nltk.pos_tag(parsing))\n",
    "# print(tags)"
   ]
  }
 ],
 "metadata": {
  "kernelspec": {
   "display_name": "Python 3",
   "language": "python",
   "name": "python3"
  },
  "language_info": {
   "codemirror_mode": {
    "name": "ipython",
    "version": 3
   },
   "file_extension": ".py",
   "mimetype": "text/x-python",
   "name": "python",
   "nbconvert_exporter": "python",
   "pygments_lexer": "ipython3",
   "version": "3.6.0"
  }
 },
 "nbformat": 4,
 "nbformat_minor": 2
}
